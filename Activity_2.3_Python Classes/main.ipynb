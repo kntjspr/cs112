{
 "cells": [
  {
   "cell_type": "code",
   "execution_count": 89,
   "id": "c79fdcdc-f27a-4b26-8dca-3305cc56a4cf",
   "metadata": {},
   "outputs": [],
   "source": [
    "class BankAccount:\n",
    "    def __init__(self, account_name, balance=0): # Set balance as optional in case we want to add an account with pre-defined balance.\n",
    "        # initialize the variables\n",
    "        self.account_name = account_name\n",
    "        self.balance = balance\n",
    "\n",
    "    \n",
    "    def deposit(self, amount):\n",
    "        if amount > 0:\n",
    "            self.balance += amount\n",
    "            return f\"You have successfully deposited P{amount}. Your balance is now: P{self.balance}\"\n",
    "        else:\n",
    "            return f\"Invalid amount. Please enter a non-negative or non-zero value.\"\n",
    "        # think of the conditions that are required\n",
    "        # this method would allow the bank account holder\n",
    "        # to deposit an amount\n",
    "        # the balance must be updated based on the amount\n",
    "        # that was inputted by the user.\n",
    "\n",
    "    def withdraw(self, amount):\n",
    "        if amount > self.balance:\n",
    "            return f\"You can't withdraw amount more than your current balance. Current Balance: P{self.balance}\"\n",
    "        else:\n",
    "            self.balance -= amount\n",
    "            return f\"You have sucessfully withdrawn P{amount} from your account. Updated balance: {self.balance}\"\n",
    "\n",
    "        # think of the conditions that are required for a\n",
    "        # bank account holder to withdraw. Their account\n",
    "        # must have a balance that is greater or equal to\n",
    "        # the current amount.\n",
    "        # The value of the amount withdrawn must be deducted to\n",
    "        # the current balance value.\n",
    "        # the user cannot withdraw 0 or negative values.\n",
    "\n",
    "    def check_balance(self):\n",
    "        return {\"Account Name\": self.account_name, \"Balance\": self.balance}\n",
    "        # this method just returns the details of the\n",
    "        # bank account holder like the current balance and the name."
   ]
  },
  {
   "cell_type": "code",
   "execution_count": 98,
   "id": "a3262f96-ef09-441d-bba5-ecaf4d9cbdde",
   "metadata": {},
   "outputs": [],
   "source": [
    "me = BankAccount(\"Kent\")"
   ]
  },
  {
   "cell_type": "code",
   "execution_count": 99,
   "id": "8b6e0747-5484-4ad8-97c0-6385c2c81dd3",
   "metadata": {},
   "outputs": [
    {
     "data": {
      "text/plain": [
       "'You have successfully deposited P50. Your balance is now: P50'"
      ]
     },
     "execution_count": 99,
     "metadata": {},
     "output_type": "execute_result"
    }
   ],
   "source": [
    "me.deposit(50)"
   ]
  },
  {
   "cell_type": "code",
   "execution_count": 100,
   "metadata": {},
   "outputs": [
    {
     "data": {
      "text/plain": [
       "{'Account Name': 'Kent', 'Balance': 50}"
      ]
     },
     "execution_count": 100,
     "metadata": {},
     "output_type": "execute_result"
    }
   ],
   "source": [
    "me.check_balance()"
   ]
  },
  {
   "cell_type": "code",
   "execution_count": 101,
   "metadata": {},
   "outputs": [
    {
     "data": {
      "text/plain": [
       "'You have sucessfully withdrawn 50 from your account. Updated balance: 0'"
      ]
     },
     "execution_count": 101,
     "metadata": {},
     "output_type": "execute_result"
    }
   ],
   "source": [
    "me.withdraw(50)"
   ]
  },
  {
   "cell_type": "code",
   "execution_count": 102,
   "metadata": {},
   "outputs": [
    {
     "data": {
      "text/plain": [
       "\"You can't withdraw amount more than your current balance. Current Balance: 0\""
      ]
     },
     "execution_count": 102,
     "metadata": {},
     "output_type": "execute_result"
    }
   ],
   "source": [
    "me.withdraw(120)"
   ]
  },
  {
   "cell_type": "code",
   "execution_count": 103,
   "metadata": {},
   "outputs": [
    {
     "data": {
      "text/plain": [
       "'Invalid amount. Please enter a non-negative or non-zero value.'"
      ]
     },
     "execution_count": 103,
     "metadata": {},
     "output_type": "execute_result"
    }
   ],
   "source": [
    "me.deposit(-100)"
   ]
  }
 ],
 "metadata": {
  "kernelspec": {
   "display_name": "Python 3 (ipykernel)",
   "language": "python",
   "name": "python3"
  },
  "language_info": {
   "codemirror_mode": {
    "name": "ipython",
    "version": 3
   },
   "file_extension": ".py",
   "mimetype": "text/x-python",
   "name": "python",
   "nbconvert_exporter": "python",
   "pygments_lexer": "ipython3",
   "version": "3.12.0"
  }
 },
 "nbformat": 4,
 "nbformat_minor": 5
}
