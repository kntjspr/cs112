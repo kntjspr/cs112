{
 "cells": [
  {
   "cell_type": "code",
   "execution_count": 15,
   "id": "c79fdcdc-f27a-4b26-8dca-3305cc56a4cf",
   "metadata": {},
   "outputs": [],
   "source": [
    "class BankAccount:\n",
    "    def __init__(self, account_name, balance=0):\n",
    "        # initialize the variables\n",
    "        self.account_name = account_name\n",
    "        self.balance = balance\n",
    "\n",
    "    \n",
    "    def deposit(self, amount):\n",
    "        self.balance += amount\n",
    "        return f\"You have successfully deposited P{amount}. Your balance is now: P{self.balance}\"\n",
    "        # think of the conditions that are required\n",
    "        # this method would allow the bank account holder\n",
    "        # to deposit an amount\n",
    "        # the balance must be updated based on the amount\n",
    "        # that was inputted by the user.\n",
    "\n",
    "    def withdraw(self, amount):\n",
    "        self.balance -= amount\n",
    "        if self.balance < 0:\n",
    "            return f\"You can't\"\n",
    "        pass\n",
    "        # think of the conditions that are required for a\n",
    "        # bank account holder to withdraw. Their account\n",
    "        # must have a balance that is greater or equal to\n",
    "        # the current amount.\n",
    "        # The value of the amount withdrawn must be deducted to\n",
    "        # the current balance value.\n",
    "        # the user cannot withdraw 0 or negative values.\n",
    "\n",
    "    def check_balance(self):\n",
    "        pass\n",
    "        # this method just returns the details of the\n",
    "        # bank account holder like the current balance and the name."
   ]
  },
  {
   "cell_type": "code",
   "execution_count": 16,
   "id": "a3262f96-ef09-441d-bba5-ecaf4d9cbdde",
   "metadata": {},
   "outputs": [],
   "source": [
    "me = BankAccount(\"kent\")"
   ]
  },
  {
   "cell_type": "code",
   "execution_count": 17,
   "id": "8b6e0747-5484-4ad8-97c0-6385c2c81dd3",
   "metadata": {},
   "outputs": [
    {
     "data": {
      "text/plain": [
       "'You have successfully deposited P100. Your balance is now: P100'"
      ]
     },
     "execution_count": 17,
     "metadata": {},
     "output_type": "execute_result"
    }
   ],
   "source": [
    "me.deposit(100)"
   ]
  }
 ],
 "metadata": {
  "kernelspec": {
   "display_name": "Python 3 (ipykernel)",
   "language": "python",
   "name": "python3"
  },
  "language_info": {
   "codemirror_mode": {
    "name": "ipython",
    "version": 3
   },
   "file_extension": ".py",
   "mimetype": "text/x-python",
   "name": "python",
   "nbconvert_exporter": "python",
   "pygments_lexer": "ipython3",
   "version": "3.12.0"
  }
 },
 "nbformat": 4,
 "nbformat_minor": 5
}
